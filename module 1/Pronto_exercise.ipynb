{
 "cells": [
  {
   "cell_type": "code",
   "execution_count": 19,
   "id": "f053ad9b-b947-4780-855d-b7c2cd8ef630",
   "metadata": {},
   "outputs": [],
   "source": [
    "from hashlib import sha256"
   ]
  },
  {
   "cell_type": "code",
   "execution_count": 39,
   "id": "ff6a737b-0114-4318-83b8-54f9c237107e",
   "metadata": {},
   "outputs": [],
   "source": [
    "import os\n",
    "os.chdir('PRONTO benchmark case study/C0 Normal and Slugging conditions/Test9/Process Data/')\n",
    "FT102 = []\n",
    "FT104 = []\n",
    "\n",
    "with open('0912Testday4.csv','r') as csv_file:\n",
    "    line1 = csv_file.readline()\n",
    "    line2 = csv_file.readline()\n",
    "    line3 = csv_file.readline()\n",
    "    for line in csv_file:\n",
    "    \telt = line.split(',')\n",
    "    \tFT102.append(float(elt[5]))\n",
    "    \tFT104.append(float(elt[6]))"
   ]
  },
  {
   "cell_type": "code",
   "execution_count": 41,
   "id": "ecd39c0d-ef4f-4041-ac49-494970a670d9",
   "metadata": {},
   "outputs": [
    {
     "name": "stdout",
     "output_type": "stream",
     "text": [
      "FT102: 9d5dc21809283407542553ce73a07891b270a67728fd0d97f29b23ef4aaa606f\n",
      "FT104: 05e7b8eb0aa3d0f646e21b897926370c75be587c3ce1e146c51c0535d8c12060\n",
      "Partial Fig. 5 replicate digest: acf0d8815a4bc639b4e0df0306086dc7c30a1231b2b72d47b55744a73d42e9d2\n"
     ]
    }
   ],
   "source": [
    "# Print digests of results\n",
    "print(\"FT102: \" + sha256(str.encode(repr(FT102))).hexdigest())\n",
    "print(\"FT104: \" + sha256(str.encode(repr(FT104))).hexdigest())\n",
    "\n",
    "# Create plot with data\n",
    "import matplotlib.pylab as plt\n",
    "import numpy as np\n",
    "plt.plot(np.array(FT102)+np.array(FT104), color='orange')\n",
    "plt.xlim([0,14000])\n",
    "plt.ylim([0,4])\n",
    "plt.xlabel('Samples')\n",
    "plt.ylabel('Input water flowrate FT102/104')\n",
    "plt.savefig('replicate_fig_5.png')\n",
    "plt.close()\n",
    "with open('replicate_fig_5.png','rb') as f:\n",
    "    digest = sha256(f.read())\n",
    "print('Partial Fig. 5 replicate digest: ' + digest.hexdigest() )"
   ]
  },
  {
   "cell_type": "code",
   "execution_count": null,
   "id": "32932401-183a-4552-92d6-68a6c50aaadc",
   "metadata": {},
   "outputs": [],
   "source": []
  }
 ],
 "metadata": {
  "kernelspec": {
   "display_name": "Python 3 (ipykernel)",
   "language": "python",
   "name": "python3"
  },
  "language_info": {
   "codemirror_mode": {
    "name": "ipython",
    "version": 3
   },
   "file_extension": ".py",
   "mimetype": "text/x-python",
   "name": "python",
   "nbconvert_exporter": "python",
   "pygments_lexer": "ipython3",
   "version": "3.11.4"
  }
 },
 "nbformat": 4,
 "nbformat_minor": 5
}
